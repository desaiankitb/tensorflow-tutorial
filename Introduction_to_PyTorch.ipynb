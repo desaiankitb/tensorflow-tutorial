{
  "nbformat": 4,
  "nbformat_minor": 0,
  "metadata": {
    "colab": {
      "name": "Introduction to PyTorch.ipynb",
      "provenance": [],
      "authorship_tag": "ABX9TyMUg8p9XlA+rUOIc2RelQyB",
      "include_colab_link": true
    },
    "kernelspec": {
      "name": "python3",
      "display_name": "Python 3"
    },
    "language_info": {
      "name": "python"
    }
  },
  "cells": [
    {
      "cell_type": "markdown",
      "metadata": {
        "id": "view-in-github",
        "colab_type": "text"
      },
      "source": [
        "<a href=\"https://colab.research.google.com/github/desaiankitb/tensorflow-tutorial/blob/master/Introduction_to_PyTorch.ipynb\" target=\"_parent\"><img src=\"https://colab.research.google.com/assets/colab-badge.svg\" alt=\"Open In Colab\"/></a>"
      ]
    },
    {
      "cell_type": "markdown",
      "metadata": {
        "id": "Lc433ja9sFfx"
      },
      "source": [
        "# A Simple Regression Problem\n",
        "## a linear regression with a single feature x! It doesn’t get much simpler than that… \n",
        "### Lets get started with *Data Generation*"
      ]
    },
    {
      "cell_type": "markdown",
      "metadata": {
        "id": "tAUN0LATsht_"
      },
      "source": [
        "# Generating some synthetic data"
      ]
    },
    {
      "cell_type": "code",
      "metadata": {
        "id": "i2P4XxywsIVM"
      },
      "source": [
        "import numpy as np\n",
        "# Data Generation\n",
        "np.random.seed(42)\n",
        "x = np.random.rand(100, 1)\n",
        "y = 1 + 2 * x + .1 * np.random.randn(100, 1)"
      ],
      "execution_count": 1,
      "outputs": []
    },
    {
      "cell_type": "code",
      "metadata": {
        "colab": {
          "base_uri": "https://localhost:8080/"
        },
        "id": "vzwaAsOSs-Ek",
        "outputId": "e46125fe-35d1-40b3-e506-9db64c0a5bdd"
      },
      "source": [
        "len(x), len(y)"
      ],
      "execution_count": 6,
      "outputs": [
        {
          "output_type": "execute_result",
          "data": {
            "text/plain": [
              "(100, 100)"
            ]
          },
          "metadata": {
            "tags": []
          },
          "execution_count": 6
        }
      ]
    },
    {
      "cell_type": "code",
      "metadata": {
        "id": "BMiufOCQtE8O"
      },
      "source": [
        "# Shuffles the indices\n",
        "idx = np.arange(100)\n",
        "np.random.shuffle(idx)"
      ],
      "execution_count": 11,
      "outputs": []
    },
    {
      "cell_type": "code",
      "metadata": {
        "colab": {
          "base_uri": "https://localhost:8080/"
        },
        "id": "CppG294OtSgt",
        "outputId": "f049e57e-921f-447a-974a-04f6bc36377a"
      },
      "source": [
        "idx"
      ],
      "execution_count": 12,
      "outputs": [
        {
          "output_type": "execute_result",
          "data": {
            "text/plain": [
              "array([17, 74, 43, 87,  5, 77, 14, 76, 84, 34,  6, 97, 40, 72, 59, 39, 13,\n",
              "       55, 12, 58, 70, 49,  7, 24, 37,  2, 52, 45, 10, 48, 75, 67, 78, 86,\n",
              "       41, 19, 26, 64, 27,  1, 42, 23, 65,  3, 44, 92, 80, 31, 95, 69, 30,\n",
              "       51, 82, 73,  4, 53,  9, 88, 36, 99, 32, 35, 38, 20, 81, 71, 90, 46,\n",
              "       28, 56, 50, 79, 25, 66, 21, 68, 96, 63, 60, 15, 83, 47, 33, 85, 93,\n",
              "        0, 11,  8, 22, 61, 94, 89, 54, 57, 91, 98, 62, 16, 18, 29])"
            ]
          },
          "metadata": {
            "tags": []
          },
          "execution_count": 12
        }
      ]
    },
    {
      "cell_type": "code",
      "metadata": {
        "id": "60JGgUCZthSn"
      },
      "source": [
        "# Uses first 80 random indices for train\n",
        "train_idx = idx[:80]\n",
        "# Uses the remaining indices for validation\n",
        "val_idx = idx[80:]"
      ],
      "execution_count": 13,
      "outputs": []
    },
    {
      "cell_type": "code",
      "metadata": {
        "colab": {
          "base_uri": "https://localhost:8080/"
        },
        "id": "0v542gEetr8-",
        "outputId": "3b969a32-ce6a-422f-c0b2-912e627b16a8"
      },
      "source": [
        "len(train_idx), len(val_idx)"
      ],
      "execution_count": 14,
      "outputs": [
        {
          "output_type": "execute_result",
          "data": {
            "text/plain": [
              "(80, 20)"
            ]
          },
          "metadata": {
            "tags": []
          },
          "execution_count": 14
        }
      ]
    },
    {
      "cell_type": "code",
      "metadata": {
        "id": "1Jos-Ho4tyrp"
      },
      "source": [
        "# Generates train and validation sets\n",
        "x_train, y_train = x[train_idx], y[train_idx]\n",
        "x_val, y_val = x[val_idx], y[val_idx]"
      ],
      "execution_count": 15,
      "outputs": []
    },
    {
      "cell_type": "code",
      "metadata": {
        "colab": {
          "base_uri": "https://localhost:8080/",
          "height": 296
        },
        "id": "DV8ZzrCkt-5S",
        "outputId": "22ea9f28-19ad-4123-e389-fb4a04b12424"
      },
      "source": [
        "#vizualise the generated data using matplotlib\n",
        "import matplotlib.pyplot as plt\n",
        "plt.plot(x_train, y_train, 'x')\n",
        "plt.ylabel('y')\n",
        "plt.xlabel('x')"
      ],
      "execution_count": 18,
      "outputs": [
        {
          "output_type": "execute_result",
          "data": {
            "text/plain": [
              "Text(0.5, 0, 'x')"
            ]
          },
          "metadata": {
            "tags": []
          },
          "execution_count": 18
        },
        {
          "output_type": "display_data",
          "data": {
            "image/png": "[encoded data removed]",
            "text/plain": [
              "<Figure size 432x288 with 1 Axes>"
            ]
          },
          "metadata": {
            "tags": [],
            "needs_background": "light"
          }
        }
      ]
    },
    {
      "cell_type": "markdown",
      "metadata": {
        "id": "7GGvbEFXvM1d"
      },
      "source": [
        "- We know that `a = 1` and `b = 2`, but now let’s see how close we can get to the true values by using **gradient descent** and the 80 points in the training set."
      ]
    },
    {
      "cell_type": "markdown",
      "metadata": {
        "id": "v0050rC-vdxN"
      },
      "source": [
        "# Gradient Descent"
      ]
    },
    {
      "cell_type": "code",
      "metadata": {
        "id": "HU1HLg0-vcdR"
      },
      "source": [
        ""
      ],
      "execution_count": null,
      "outputs": []
    },
    {
      "cell_type": "code",
      "metadata": {
        "id": "2ckKQqZpu21B"
      },
      "source": [
        ""
      ],
      "execution_count": null,
      "outputs": []
    },
    {
      "cell_type": "code",
      "metadata": {
        "id": "cuvE25Iauwr8"
      },
      "source": [
        ""
      ],
      "execution_count": null,
      "outputs": []
    }
  ]
}